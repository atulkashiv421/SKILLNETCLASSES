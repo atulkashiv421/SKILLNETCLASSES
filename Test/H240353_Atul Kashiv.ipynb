{
 "cells": [
  {
   "cell_type": "markdown",
   "id": "c9c41d95-8d6e-42b8-b848-4f7f202a69ed",
   "metadata": {},
   "source": [
    "# Q1 List and explain any four features of python that distinguish it from other perogramming language"
   ]
  },
  {
   "cell_type": "markdown",
   "id": "5ba81197-019e-4bcf-bbb9-98b15e476c71",
   "metadata": {},
   "source": [
    "### 1. It is interpreted and high level language.\n",
    "### 2. It is easy to understand compare to other language\n",
    "### 3. There are used different level library for running complicated problems.\n",
    "### 4. This is Advanced and its solve problems like mmultiplication addition and others in two lines as campare to other language"
   ]
  },
  {
   "cell_type": "markdown",
   "id": "5a8339f4-c20e-4606-beeb-2c6202531d0f",
   "metadata": {},
   "source": [
    "# Q2 Difference between list and tuple with one example.\n"
   ]
  },
  {
   "cell_type": "markdown",
   "id": "525805b3-2b41-4caa-93ac-6b85b15d7fb2",
   "metadata": {},
   "source": [
    "### 1. list is ued for store elements similary tuple used for storing element but there are many differences in tuple and list. one is mutable and one is immutable  "
   ]
  },
  {
   "cell_type": "code",
   "execution_count": 1,
   "id": "d5bfc80e-607f-4d55-a49c-3d77b468d853",
   "metadata": {},
   "outputs": [
    {
     "name": "stdout",
     "output_type": "stream",
     "text": [
      "[1, 2, 3, 4, 8]\n",
      "('atul', 'tushar', 12, 34)\n"
     ]
    }
   ],
   "source": [
    "list= [1,2,3,4,8]\n",
    "print(list)\n",
    "tuple= (\"atul\",\"tushar\",12,34)\n",
    "print(dict)"
   ]
  },
  {
   "cell_type": "markdown",
   "id": "c2edcc00-e38c-4607-b440-d6bb1fe84b0f",
   "metadata": {},
   "source": [
    "# Q3 What is diff between is and == operator in python."
   ]
  },
  {
   "cell_type": "markdown",
   "id": "0df40f71-c292-46da-950c-aff83afb508a",
   "metadata": {},
   "source": [
    "### There are two types one is is and second is == . is means = this and == is comparison operator . is explain lets suppose a and b varible then a is equal to b which means a clearly is equal to b but as compare to == this condition its check a is equal to b or not."
   ]
  },
  {
   "cell_type": "markdown",
   "id": "21f61514-e746-441e-8a80-961beb2ed0b3",
   "metadata": {},
   "source": [
    "# Q4 Explain the purpose of th init constructor with an example.\n"
   ]
  },
  {
   "cell_type": "markdown",
   "id": "0981cebc-c06c-44db-b65d-0760d5186b2e",
   "metadata": {},
   "source": [
    " ### init constructor used for calling itself its d take parameter like self etc but afterly not going to call other name parameter its print manually and simply program."
   ]
  },
  {
   "cell_type": "code",
   "execution_count": 6,
   "id": "21d2351c-5d6f-42a7-a571-48a6c9d8f2b5",
   "metadata": {},
   "outputs": [
    {
     "name": "stdout",
     "output_type": "stream",
     "text": [
      "Gud moring\n"
     ]
    }
   ],
   "source": [
    "class person:\n",
    "    def __init__(self):\n",
    "        print(\"Gud moring\")\n",
    "    a = person()\n",
    "    "
   ]
  },
  {
   "cell_type": "markdown",
   "id": "a05c458a-3830-4994-8865-a8ea77a07daf",
   "metadata": {},
   "source": [
    "# Q5 Role of self in python."
   ]
  },
  {
   "cell_type": "markdown",
   "id": "ba62ff12-cba0-4507-8093-bea38f0906fc",
   "metadata": {},
   "source": [
    "### Self used for references"
   ]
  },
  {
   "cell_type": "markdown",
   "id": "b3b75f05-9c51-40d2-9315-d99c8d3cd2d5",
   "metadata": {},
   "source": [
    "# Q6 Exception handling work in python ? explain with syntax."
   ]
  },
  {
   "cell_type": "code",
   "execution_count": null,
   "id": "4fe86177-6d5e-40b7-8612-c99f2b79af3c",
   "metadata": {},
   "outputs": [],
   "source": []
  },
  {
   "cell_type": "markdown",
   "id": "7891cfa5-c303-4156-be90-18ddd5dc1484",
   "metadata": {},
   "source": [
    "# Q7 What are python generator ? diff from normal functions."
   ]
  },
  {
   "cell_type": "markdown",
   "id": "44ba8136-e328-4336-a889-a0ef5cd70061",
   "metadata": {},
   "source": [
    "### Python generator menas built in function which is stored in python afterly but normal function cret=ate by users and this is user defined function."
   ]
  },
  {
   "cell_type": "markdown",
   "id": "9fba7610-221d-4628-983b-11ee9dd45aec",
   "metadata": {},
   "source": [
    "# Q8 "
   ]
  },
  {
   "cell_type": "code",
   "execution_count": null,
   "id": "3ae62820-210b-4f15-9920-efa0499cb5fe",
   "metadata": {},
   "outputs": [],
   "source": []
  },
  {
   "cell_type": "markdown",
   "id": "4ac69546-d1e5-48d3-b0ab-09684d1d3f1d",
   "metadata": {},
   "source": [
    "# Q9 use of lambda,map() and filter() function  in pyhton ?"
   ]
  },
  {
   "cell_type": "code",
   "execution_count": null,
   "id": "ee76b15c-7df3-4f32-89db-39b2e921b921",
   "metadata": {},
   "outputs": [],
   "source": []
  },
  {
   "cell_type": "markdown",
   "id": "3b877b48-5c83-40a3-a663-36d7fd7a3b82",
   "metadata": {},
   "source": [
    "# Q10 Diff btween str and repr method."
   ]
  },
  {
   "cell_type": "markdown",
   "id": "8a3ccd63-0095-4456-9872-c291e6b007d4",
   "metadata": {},
   "source": [
    "### Str used for string representation and repr method used for keys and values representation."
   ]
  },
  {
   "cell_type": "markdown",
   "id": "84ac06f8-298b-4171-911e-aa7a7174fec4",
   "metadata": {},
   "source": [
    "# Q11 What is Python dictionaries ? Two methods used on dictionaries With examples."
   ]
  },
  {
   "cell_type": "markdown",
   "id": "f3559ac7-cdd5-4403-9087-37f31e752c78",
   "metadata": {},
   "source": [
    "### Python dictionaries used for create dictionaries with keys and values . and it is used in programs. "
   ]
  },
  {
   "cell_type": "code",
   "execution_count": 8,
   "id": "90ef785d-d518-4dc7-92ce-54c220f3a99f",
   "metadata": {},
   "outputs": [
    {
     "name": "stdout",
     "output_type": "stream",
     "text": [
      "{'keys': 23, 'values': 13}\n"
     ]
    }
   ],
   "source": [
    "dict = {\"keys\":23\n",
    "       ,\"values\":13}\n",
    "print(dict)"
   ]
  },
  {
   "cell_type": "markdown",
   "id": "8d34c9c8-7667-4e1b-b071-ffdc7097856d",
   "metadata": {},
   "source": [
    "# Q12 Explain diff modes in which a file can be opene in python.\n"
   ]
  },
  {
   "cell_type": "markdown",
   "id": "bf06c108-feeb-4687-a8b5-ebbfd5e7aa17",
   "metadata": {},
   "source": [
    "### yes we cn opened file in different method but easist way to open file is (with open) it is open file easily"
   ]
  },
  {
   "cell_type": "code",
   "execution_count": 10,
   "id": "09241d9d-2b7a-469e-b057-6425d0b7c00b",
   "metadata": {},
   "outputs": [],
   "source": [
    "#with open(\"file name\") as f:\n",
    "  #  print(f.read())\n"
   ]
  },
  {
   "cell_type": "markdown",
   "id": "1335e57c-e879-4e36-bbf9-a7e291b22faf",
   "metadata": {},
   "source": [
    "# Q13 what is recursion ? One important thing use case for it"
   ]
  },
  {
   "cell_type": "markdown",
   "id": "8e59efa4-32b6-402d-9847-06588c2baa25",
   "metadata": {},
   "source": [
    "### Recursion used for return the values operation to using return function for example"
   ]
  },
  {
   "cell_type": "code",
   "execution_count": 14,
   "id": "c7192ce0-0f41-4f6e-9da3-194babf546fe",
   "metadata": {},
   "outputs": [
    {
     "data": {
      "text/plain": [
       "5"
      ]
     },
     "execution_count": 14,
     "metadata": {},
     "output_type": "execute_result"
    }
   ],
   "source": [
    "def cla():\n",
    " a = 2\n",
    " b = 3\n",
    " return a+b\n",
    "cla()"
   ]
  },
  {
   "cell_type": "markdown",
   "id": "349a460f-5934-4e77-a467-60c5f60dfdf9",
   "metadata": {},
   "source": [
    "# Q14 Diff btween class variables and instance variables"
   ]
  },
  {
   "cell_type": "markdown",
   "id": "7ee9037f-bd30-4f69-b331-1a09eef721fe",
   "metadata": {},
   "source": [
    "### Class variable used in under the class and function but instance used out the class . Take a example"
   ]
  },
  {
   "cell_type": "code",
   "execution_count": 29,
   "id": "dbd92748-b270-4803-a6cf-831530326731",
   "metadata": {},
   "outputs": [
    {
     "name": "stdout",
     "output_type": "stream",
     "text": [
      "atul\n"
     ]
    }
   ],
   "source": [
    "class person:\n",
    "  def ak(self,name):\n",
    "      self.name=name#class  variable\n",
    "      print(self.name)\n",
    "emp = person()#instance variable\n",
    "emp.ak(\"atul\")\n",
    "   "
   ]
  },
  {
   "cell_type": "markdown",
   "id": "f3b94334-72be-41d7-aad8-fb5b97bf1e99",
   "metadata": {},
   "source": [
    "# Q15 Explain inheritance in python with any two advantages."
   ]
  },
  {
   "cell_type": "markdown",
   "id": "17424858-9035-4227-85b5-8348502807b7",
   "metadata": {},
   "source": [
    "### Inheritance means two different class with same names. like two name a and a then you create same function but in different classes"
   ]
  },
  {
   "cell_type": "markdown",
   "id": "0e38d15a-6335-42de-8f20-f1713f47737f",
   "metadata": {},
   "source": [
    "#  Q16 what are module and  how imported in program"
   ]
  },
  {
   "cell_type": "markdown",
   "id": "36076239-9d5f-42e5-be13-13671276d65f",
   "metadata": {},
   "source": [
    "### Module used in program there are different different module in python like pyjoke pysttrx3 and tensorflow. firstly you download module trough the cmd . write the pip install and then write module name and its download in your python library\n",
    "### import pyjoke "
   ]
  },
  {
   "cell_type": "markdown",
   "id": "175136e5-5d8b-45bc-9abf-1c657646003f",
   "metadata": {},
   "source": [
    "# Q17 one diff in mutable and immutable \n"
   ]
  },
  {
   "cell_type": "markdown",
   "id": "992727dc-3d9c-4872-a48b-e92bd5494e2d",
   "metadata": {},
   "source": [
    "### mutable - we can change the mutable elements but immutable can not change the elements they are permanently stored in data"
   ]
  },
  {
   "cell_type": "markdown",
   "id": "05c2b2c0-6b38-472b-8b40-8cb34273e429",
   "metadata": {},
   "source": [
    "# Q18 "
   ]
  },
  {
   "cell_type": "code",
   "execution_count": null,
   "id": "6453fe77-b1a1-497d-ab9a-d7fd9926623a",
   "metadata": {},
   "outputs": [],
   "source": []
  },
  {
   "cell_type": "markdown",
   "id": "25809350-5e0c-411f-a90f-68c5354544c3",
   "metadata": {},
   "source": [
    "# Q19 use of static method. how do you define them.\n"
   ]
  },
  {
   "cell_type": "markdown",
   "id": "abb43ec6-d010-4272-a56a-60eaa74818bf",
   "metadata": {},
   "source": [
    "### static method used in program it does not used self parameter it run without any parameter lets take example"
   ]
  },
  {
   "cell_type": "code",
   "execution_count": 31,
   "id": "9a53785c-3048-40f6-9f2f-a3c20ea72ebd",
   "metadata": {},
   "outputs": [
    {
     "name": "stdout",
     "output_type": "stream",
     "text": [
      "atul\n",
      "atul\n"
     ]
    }
   ],
   "source": [
    "class person:\n",
    "  def ak(self,name):\n",
    "      self.name=name#class  variable\n",
    "      print(self.name)\n",
    "  @staticmethod\n",
    "  def a():\n",
    "      print(\"atul\")\n",
    "emp = person()#instance variable\n",
    "emp.ak(\"atul\")\n",
    "emp.a()\n"
   ]
  },
  {
   "cell_type": "markdown",
   "id": "f6495b13-7a7f-4cad-a0d2-dfb844fec5d7",
   "metadata": {},
   "source": [
    "# Q20 "
   ]
  },
  {
   "cell_type": "markdown",
   "id": "c5306060-9448-4a26-9f41-e8d80183f7e9",
   "metadata": {},
   "source": [
    "# Section-B"
   ]
  },
  {
   "cell_type": "markdown",
   "id": "60b8ead0-4c1a-4268-8d9c-40724ba95b45",
   "metadata": {},
   "source": [
    "# 1.OOP with classes\n",
    "# Write a python progrm to create Employee with attributes name , em_id and salary. include methods to input and display employee details constructor or str method"
   ]
  },
  {
   "cell_type": "code",
   "execution_count": 45,
   "id": "c073e64c-61e2-4698-af60-862e68ba7bfa",
   "metadata": {},
   "outputs": [
    {
     "name": "stdout",
     "output_type": "stream",
     "text": [
      "Employee name is:atul and Employee id is: 123 and Employee salary is:120000\n",
      "Employee name is:tushar and Employee id is: 124 and Employee salary is:12000\n"
     ]
    }
   ],
   "source": [
    "class Employee:\n",
    "    def name(self,name,idd,salary):\n",
    "        self.name=name\n",
    "        self.idd=idd\n",
    "        self.salary=salary\n",
    "        print(f\"Employee name is:{self.name} and Employee id is: {self.idd} and Employee salary is:{self.salary}\")\n",
    "    def namee(self,name,idd,salary):\n",
    "        self.name=name\n",
    "        self.idd=idd\n",
    "        self.salary=salary\n",
    "        print(f\"Employee name is:{self.name} and Employee id is: {self.idd} and Employee salary is:{self.salary}\")\n",
    "ak=Employee()\n",
    "ak.name(\"atul\",\"123\",\"120000\")\n",
    "ak.namee(\"tushar\",\"124\",\"12000\")\n",
    "        \n"
   ]
  },
  {
   "cell_type": "markdown",
   "id": "d5b58903-1d9f-456b-ad1d-30e9e0a6be45",
   "metadata": {},
   "source": [
    "# 8.String & file operation\n",
    "# Write a program that accepts a paragraph as input , write it to a file and then reads the  file to display"
   ]
  },
  {
   "cell_type": "code",
   "execution_count": 49,
   "id": "68a10abd-5ca2-43c8-8b9f-f6678bdb066f",
   "metadata": {},
   "outputs": [
    {
     "name": "stdout",
     "output_type": "stream",
     "text": [
      "Hey atul you are amazing\n"
     ]
    }
   ],
   "source": [
    "st = \"Hey atul you are amazing\"\n",
    "yss = open(\"file.txt\",\"w\")\n",
    "yss.write(st)\n",
    "print(st)\n",
    "yss.close()"
   ]
  },
  {
   "cell_type": "markdown",
   "id": "9614624b-17af-4673-8eb5-e7ebce18c3c8",
   "metadata": {},
   "source": [
    "# 7. Inheritance \n",
    "# Create a base class Person with method show_info().create a derived class student that inherits from Person and adds student specific details"
   ]
  },
  {
   "cell_type": "code",
   "execution_count": 66,
   "id": "c4e542c5-b991-4551-a66e-5c8b0633c0ee",
   "metadata": {},
   "outputs": [
    {
     "name": "stdout",
     "output_type": "stream",
     "text": [
      "Atul 18\n",
      "atul 15\n"
     ]
    }
   ],
   "source": [
    "class person:\n",
    "    def show_info(self,name,age):\n",
    "        self.name=name\n",
    "        self.age=age\n",
    "        print(self.name,self.age)\n",
    "class name(person):\n",
    "    def show_info(self,name):\n",
    "        self.name=name\n",
    "        \n",
    "nm=person()\n",
    "nm.show_info(\"Atul\",\"18\")\n",
    "nm.show_info(\"atul\",\"15\")\n",
    "         "
   ]
  },
  {
   "cell_type": "code",
   "execution_count": null,
   "id": "95fceeac-c247-4fc9-b3a2-109136fbc24e",
   "metadata": {},
   "outputs": [],
   "source": []
  },
  {
   "cell_type": "code",
   "execution_count": null,
   "id": "012ed3ae-b763-4f9e-8e34-49fe089f1ddd",
   "metadata": {},
   "outputs": [],
   "source": []
  }
 ],
 "metadata": {
  "kernelspec": {
   "display_name": "Python 3 (ipykernel)",
   "language": "python",
   "name": "python3"
  },
  "language_info": {
   "codemirror_mode": {
    "name": "ipython",
    "version": 3
   },
   "file_extension": ".py",
   "mimetype": "text/x-python",
   "name": "python",
   "nbconvert_exporter": "python",
   "pygments_lexer": "ipython3",
   "version": "3.13.5"
  },
  "widgets": {
   "application/vnd.jupyter.widget-state+json": {
    "state": {},
    "version_major": 2,
    "version_minor": 0
   }
  }
 },
 "nbformat": 4,
 "nbformat_minor": 5
}
